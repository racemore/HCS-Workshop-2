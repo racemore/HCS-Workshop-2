{
 "cells": [
  {
   "cell_type": "code",
   "execution_count": null,
   "metadata": {},
   "outputs": [],
   "source": [
    "# HCS Workshop 2, Web Scraping"
   ]
  },
  {
   "cell_type": "code",
   "execution_count": null,
   "metadata": {},
   "outputs": [],
   "source": [
    "# Author: Aracely Moreno"
   ]
  },
  {
   "cell_type": "code",
   "execution_count": null,
   "metadata": {},
   "outputs": [],
   "source": [
    "# import requests package and set up page\n",
    "import requests\n",
    "# import BeautifulSoup and make a \"BeautifulSoup object\"\n",
    "from bs4 import BeautifulSoup\n",
    "\n",
    "page = requests.get(\"https://www.jpl.nasa.gov/missions/?type=past\")\n",
    "print(page.status_code)\n",
    "\n",
    "soup = BeautifulSoup(page.content, 'html.parser')\n",
    "print(soup.prettify())"
   ]
  },
  {
   "cell_type": "code",
   "execution_count": null,
   "metadata": {},
   "outputs": [],
   "source": [
    "# list soup children, title, etc. \n",
    "\n",
    "list(soup.children)\n",
    "list(soup.title)\n",
    "print(soup.title.string) # Missions\n",
    "\n",
    "print(soup.html.parent.name) #Document\n",
    "print(list(soup.children))"
   ]
  },
  {
   "cell_type": "code",
   "execution_count": null,
   "metadata": {},
   "outputs": [],
   "source": [
    "# more printing\n",
    "print(soup.get_text())"
   ]
  },
  {
   "cell_type": "code",
   "execution_count": null,
   "metadata": {},
   "outputs": [],
   "source": [
    "# create a list of NASA missions and their respective date of launch\n",
    "page = requests.get('https://www.jpl.nasa.gov/missions/?type=past')\n",
    "soup = BeautifulSoup(page.content, 'html.parser')\n",
    "\n",
    "headings = soup.find_all(\"h3\", class_=\"\")\n",
    "launchDates = soup.find_all(\"h3\",class_=\"release_date\")\n",
    "\n",
    "\n",
    "# create dictionary of mission names and launch date\n",
    "res = {} \n",
    "for heading in headings: \n",
    "    for launchDate in launchDates: \n",
    "        res[heading] = launchDate \n",
    "        launchDates.remove(launchDate) \n",
    "        break  \n",
    "        \n",
    "\n",
    "print(\"Missions & Launch Date\")\n",
    "\n",
    "            \n",
    "for heading in res:\n",
    "    print(heading.text.strip()  + \"\\n\" + res[heading].text.strip() + \"\\n================\")\n"
   ]
  }
 ],
 "metadata": {
  "kernelspec": {
   "display_name": "Python 3",
   "language": "python",
   "name": "python3"
  },
  "language_info": {
   "codemirror_mode": {
    "name": "ipython",
    "version": 3
   },
   "file_extension": ".py",
   "mimetype": "text/x-python",
   "name": "python",
   "nbconvert_exporter": "python",
   "pygments_lexer": "ipython3",
   "version": "3.7.6"
  }
 },
 "nbformat": 4,
 "nbformat_minor": 2
}
